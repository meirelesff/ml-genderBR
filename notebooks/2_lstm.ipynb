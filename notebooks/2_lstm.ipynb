{
 "metadata": {
  "language_info": {
   "codemirror_mode": {
    "name": "ipython",
    "version": 3
   },
   "file_extension": ".py",
   "mimetype": "text/x-python",
   "name": "python",
   "nbconvert_exporter": "python",
   "pygments_lexer": "ipython3",
   "version": "3.8.5"
  },
  "orig_nbformat": 2,
  "kernelspec": {
   "name": "python385jvsc74a57bd04ce8f3503268d3015bb2965b8b8a774af37150d2c319abcb4da4abe9e41c70f2",
   "display_name": "Python 3.8.5 64-bit ('.venv': venv)",
   "language": "python"
  }
 },
 "nbformat": 4,
 "nbformat_minor": 2,
 "cells": [
  {
   "cell_type": "code",
   "execution_count": null,
   "metadata": {},
   "outputs": [],
   "source": [
    "# Libs\n",
    "from tensorflow.keras.callbacks import EarlyStopping\n",
    "from sklearn.model_selection import train_test_split\n",
    "from tensorflow.keras import layers\n",
    "import matplotlib.pyplot as plt\n",
    "from tensorflow import keras\n",
    "import pandas as pd\n",
    "import numpy as np\n",
    "\n",
    "# Plot size\n",
    "plt.rcParams[\"figure.figsize\"] = [10, 5]\n",
    "\n",
    "# Load and prepare data\n",
    "nomes = pd.read_csv(\"../raw_data/nomes.csv\")\n",
    "nomes.loc[:, \"first_name\"] = nomes.first_name.str.lower().str.strip()"
   ]
  },
  {
   "cell_type": "code",
   "execution_count": null,
   "metadata": {},
   "outputs": [],
   "source": [
    "# Plot names' length\n",
    "(nomes.assign(tam = nomes.first_name.str.len())\n",
    "    .groupby(\"tam\")\n",
    "    .size()\n",
    "    .plot.bar()\n",
    ")"
   ]
  },
  {
   "cell_type": "code",
   "execution_count": null,
   "metadata": {},
   "outputs": [],
   "source": [
    "# Create function to sample and prepare data\n",
    "def draw_names_sample(nomes, n):\n",
    "\n",
    "    smp = nomes.sample(n)\n",
    "    y = np.random.binomial(1, smp.prop_female, n)\n",
    "    x = smp.first_name\n",
    "    return y, x"
   ]
  },
  {
   "cell_type": "code",
   "execution_count": null,
   "metadata": {},
   "outputs": [],
   "source": [
    "# A sample for testing\n",
    "np.random.seed(222)\n",
    "Y, first_names = draw_names_sample(nomes, 50000)"
   ]
  },
  {
   "cell_type": "code",
   "execution_count": null,
   "metadata": {},
   "outputs": [],
   "source": [
    "# Valid letters\n",
    "chars = set(\"\".join(first_names))\n",
    "chars.add(\"DUMMY\")\n",
    "chars_index = dict((c, i) for i, c in enumerate(chars))\n",
    "index_chars = dict((i, c) for i, c in enumerate(chars))"
   ]
  },
  {
   "cell_type": "code",
   "execution_count": null,
   "metadata": {},
   "outputs": [],
   "source": [
    "# Function to one-hot encode names\n",
    "def one_hot(nome, chars_index, pad=20):\n",
    "\n",
    "    nome_trunc = nome[:pad]\n",
    "    res = []\n",
    "    for i in [chars_index[ch] for ch in nome_trunc]:\n",
    "        nome_vector = np.zeros(len(chars_index))\n",
    "        nome_vector[i] = 1\n",
    "        res.append(nome_vector)\n",
    "    \n",
    "    for i in range(0, pad - len(res)):\n",
    "        dummy = np.zeros(len(chars_index))\n",
    "        dummy[chars_index[\"DUMMY\"]] = 1\n",
    "        res.append(dummy)\n",
    "\n",
    "    return np.vstack(res)\n",
    "\n",
    "# Transform names\n",
    "X_first_names = list(map(lambda x: one_hot(x, chars_index), first_names))\n",
    "X_first_names = np.asarray(X_first_names)\n"
   ]
  },
  {
   "cell_type": "code",
   "execution_count": null,
   "metadata": {},
   "outputs": [],
   "source": [
    "# Split the data\n",
    "X_train, X_test, y_train, y_test = train_test_split(X_first_names, Y, random_state=222)"
   ]
  },
  {
   "cell_type": "code",
   "execution_count": null,
   "metadata": {},
   "outputs": [],
   "source": [
    "# Build a test model\n",
    "model = keras.Sequential()\n",
    "model.add(layers.Bidirectional(layers.LSTM(128, return_sequences=True), \n",
    "                               input_shape=(20, len(chars_index))))\n",
    "model.add(layers.Dropout(0.3))\n",
    "model.add(layers.Dense(1, activity_regularizer=keras.regularizers.l2(0.002)))\n",
    "model.add(layers.Activation(\"sigmoid\"))\n",
    "model.compile(loss=\"binary_crossentropy\", optimizer=\"adam\", metrics=[\"accuracy\"])\n",
    "model.summary()"
   ]
  },
  {
   "cell_type": "code",
   "execution_count": null,
   "metadata": {},
   "outputs": [],
   "source": [
    "# Defines early stoping\n",
    "cb = EarlyStopping(patience=3)"
   ]
  },
  {
   "cell_type": "code",
   "execution_count": null,
   "metadata": {},
   "outputs": [],
   "source": [
    "# Training\n",
    "history = model.fit(X_train, y_train, batch_size=256, \n",
    "                    epochs=50, verbose=1, validation_data=(X_test, y_test),\n",
    "                    callbacks = cb)"
   ]
  },
  {
   "cell_type": "code",
   "execution_count": null,
   "metadata": {},
   "outputs": [],
   "source": [
    "plt.plot(history.history[\"accuracy\"])\n",
    "plt.plot(history.history[\"val_accuracy\"])\n",
    "plt.legend([\"Train\", \"Validation\"])\n",
    "plt.show()"
   ]
  },
  {
   "cell_type": "code",
   "execution_count": null,
   "metadata": {},
   "outputs": [],
   "source": []
  }
 ]
}