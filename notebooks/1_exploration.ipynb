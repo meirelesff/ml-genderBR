{
 "cells": [
  {
   "cell_type": "markdown",
   "metadata": {},
   "source": [
    "# Predict Gender from Brazilian First Names\n",
    "\n",
    "This notebook presents descriptive evidence on gender differences on Brazilian first names that might be useful to exploit in a supervised model. To sum up, there are three relevant patters to consider: \n",
    "\n",
    "## Letters\n",
    "\n",
    "There are..."
   ]
  },
  {
   "cell_type": "code",
   "execution_count": 2,
   "metadata": {},
   "outputs": [],
   "source": [
    "import matplotlib.pyplot as plt\n",
    "import seaborn as sns\n",
    "import pandas as pd\n",
    "import numpy as np\n",
    "\n",
    "nomes = pd.read_csv(\"raw_data/nomes.csv\")\n",
    "nomes = nomes[(nomes.prop_female > 0.8) | (nomes.prop_female < 0.2)]\n",
    "nomes[\"gender\"] = np.where(nomes.prop_female > 0.8, \"Female\", \"Male\")\n",
    "nomes[\"first_name\"] = nomes.first_name.str.lower().str.strip()"
   ]
  },
  {
   "cell_type": "code",
   "execution_count": 3,
   "metadata": {},
   "outputs": [
    {
     "data": {
      "text/plain": [
       "gender  first_name\n",
       "Female  a             4971\n",
       "Male    a             5225\n",
       "dtype: int64"
      ]
     },
     "execution_count": 3,
     "metadata": {},
     "output_type": "execute_result"
    }
   ],
   "source": [
    "x = nomes.groupby([\"gender\", nomes.first_name.str[:1]]).size()\n",
    "\n",
    "# Nomes com iniciando por cada letra\n",
    "x[x.index.get_level_values(1) == \"a\"]\n",
    "\n"
   ]
  },
  {
   "cell_type": "code",
   "execution_count": null,
   "metadata": {},
   "outputs": [],
   "source": []
  }
 ],
 "metadata": {
  "kernelspec": {
   "display_name": "Python 3",
   "language": "python",
   "name": "python3"
  },
  "language_info": {
   "codemirror_mode": {
    "name": "ipython",
    "version": 3
   },
   "file_extension": ".py",
   "mimetype": "text/x-python",
   "name": "python",
   "nbconvert_exporter": "python",
   "pygments_lexer": "ipython3",
   "version": "3.8.5"
  }
 },
 "nbformat": 4,
 "nbformat_minor": 2
}
