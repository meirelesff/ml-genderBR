{
 "metadata": {
  "language_info": {
   "codemirror_mode": {
    "name": "ipython",
    "version": 3
   },
   "file_extension": ".py",
   "mimetype": "text/x-python",
   "name": "python",
   "nbconvert_exporter": "python",
   "pygments_lexer": "ipython3",
   "version": "3.8.5"
  },
  "orig_nbformat": 2,
  "kernelspec": {
   "name": "python385jvsc74a57bd0d4748e3950d3188e2fe1d5e9e9074ba510b5a60a3b391d468cb3704e9e6cebd8",
   "display_name": "Python 3.8.5 64-bit ('.venv')"
  }
 },
 "nbformat": 4,
 "nbformat_minor": 2,
 "cells": [
  {
   "cell_type": "code",
   "execution_count": null,
   "metadata": {},
   "outputs": [],
   "source": [
    "# Libs\n",
    "from sklearn.model_selection import GridSearchCV, RepeatedKFold\n",
    "from sklearn.feature_extraction.text import CountVectorizer\n",
    "from sklearn.feature_selection import SelectKBest, chi2\n",
    "from sklearn.linear_model import SGDClassifier\n",
    "from sklearn.naive_bayes import MultinomialNB\n",
    "from sklearn.pipeline import Pipeline\n",
    "from xgboost import XGBClassifier\n",
    "import pandas as pd\n",
    "import numpy as np\n",
    "\n",
    "# Load and prepare data\n",
    "nomes = pd.read_csv(\"../raw_data/nomes.csv\")\n",
    "nomes[\"first_name\"] = nomes.first_name.str.lower().str.strip()\n"
   ]
  },
  {
   "cell_type": "code",
   "execution_count": null,
   "metadata": {},
   "outputs": [],
   "source": [
    "# Create function to sample and prepare data\n",
    "def draw_names_sample(nomes, n):\n",
    "\n",
    "    smp = nomes.sample(n)\n",
    "    y = np.random.binomial(1, smp.prop_female, n)\n",
    "    x = \"_\" + smp.first_name + \"_\"\n",
    "    return y, x"
   ]
  },
  {
   "cell_type": "code",
   "execution_count": null,
   "metadata": {},
   "outputs": [],
   "source": [
    "# Define pipelines\n",
    "nb_pipe = Pipeline([(\"vect\", CountVectorizer(analyzer=\"char_wb\")),\n",
    "                    (\"feat\", SelectKBest(chi2)), \n",
    "                    (\"clf\", MultinomialNB())\n",
    "                    ])\n",
    "\n",
    "svm_pipe = Pipeline([(\"vect\", CountVectorizer(analyzer=\"char_wb\")),\n",
    "                    (\"feat\", SelectKBest(chi2)), \n",
    "                    (\"clf\", SGDClassifier())\n",
    "                    ])\n",
    "\n",
    "xgb_pipe = Pipeline([(\"vect\", CountVectorizer(analyzer=\"char_wb\")),\n",
    "                    (\"feat\", SelectKBest(chi2)), \n",
    "                    (\"clf\", XGBClassifier())\n",
    "                    ])"
   ]
  },
  {
   "cell_type": "code",
   "execution_count": null,
   "metadata": {},
   "outputs": [],
   "source": [
    "# Grid search params\n",
    "ngram = [(1, 3), (1, 4), (1, 5)]\n",
    "k = np.array(range(800, 1601, 200))\n",
    "\n",
    "grid_nb = [{\n",
    "    \"vect__ngram_range\" : ngram,\n",
    "    \"feat__k\" : k,\n",
    "    \"clf__alpha\" : (0.5, 0.75, 1)\n",
    "    }]\n",
    "\n",
    "grid_svm = [{\n",
    "    \"vect__ngram_range\" : ngram,\n",
    "    \"feat__k\" : k,\n",
    "    \"clf__alpha\" : [1e-4, 1e-3, 1e-2, 1e-1],\n",
    "    \"clf__max_iter\" : [10, 20, 50, 100, 200, 300, 1000]\n",
    "    }]\n",
    "\n",
    "grid_xgb = [{\n",
    "    \"vect__ngram_range\" : ngram,\n",
    "    \"feat__k\" : k,\n",
    "    \"clf__max_depth\" : [3, 4, 5, 6, 7, 8, 9, 10],\n",
    "    \"clf__min_child_weight\" : [0.1, 1, 100,1000],\n",
    "    \"clf__gamma\" : [0.1, 1, 100,1000]\n",
    "    }]\n"
   ]
  },
  {
   "cell_type": "code",
   "execution_count": null,
   "metadata": {},
   "outputs": [],
   "source": [
    "# A sample for testing\n",
    "np.random.seed(222)\n",
    "Y, X = draw_names_sample(nomes, 10000)"
   ]
  },
  {
   "cell_type": "code",
   "execution_count": null,
   "metadata": {},
   "outputs": [],
   "source": [
    "# Run grid search with repeated kfold\n",
    "rcv = RepeatedKFold(n_splits=5, n_repeats=5, random_state=222)\n",
    "gs_nb = GridSearchCV(nb_pipe, grid_nb, cv=rcv, n_jobs=-1).fit(X, Y)\n",
    "gs_svm = GridSearchCV(svm_pipe, grid_svm, cv=rcv, n_jobs=-1).fit(X, Y)\n",
    "gs_xgb = GridSearchCV(xgb_pipe, grid_xgb, cv=rcv, n_jobs=-1).fit(X, Y)"
   ]
  },
  {
   "cell_type": "code",
   "execution_count": null,
   "metadata": {},
   "outputs": [],
   "source": [
    "# Best results NB\n",
    "pd.DataFrame(gs_nb.cv_results_).sort_values(\"rank_test_score\").head()"
   ]
  },
  {
   "cell_type": "code",
   "execution_count": null,
   "metadata": {},
   "outputs": [],
   "source": [
    "# Best results SVM\n",
    "pd.DataFrame(gs_svm.cv_results_).sort_values(\"rank_test_score\").head()"
   ]
  },
  {
   "cell_type": "code",
   "execution_count": null,
   "metadata": {},
   "outputs": [],
   "source": [
    "# Best results XGB\n",
    "pd.DataFrame(gs_svm.cv_results_).sort_values(\"rank_test_score\").head()"
   ]
  }
 ]
}